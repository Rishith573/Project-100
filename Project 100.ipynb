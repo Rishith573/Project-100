{
 "cells": [
  {
   "cell_type": "code",
   "execution_count": 7,
   "id": "7469314d",
   "metadata": {},
   "outputs": [
    {
     "name": "stdout",
     "output_type": "stream",
     "text": [
      "Your balance has been inquired and it is in the perfect condition!🥳🎉\n"
     ]
    }
   ],
   "source": [
    "class atm(object):\n",
    "    def __init__(self, atmCardNumber, pinNumber):\n",
    "        self.atmCardNumber = atmCardNumber\n",
    "        self.pinNumber = pinNumber\n",
    "    def CashWithdrawl(self):\n",
    "        amount = input(\"How much cash do you want to withdraw? \")\n",
    "        print('Succesfully withdrawed your amount: ' + \"💵\" + amount + \"💵\")\n",
    "    def BalanceInquiry(self):\n",
    "        print(\"Your balance has been inquired and it is in the perfect condition!🥳🎉\")\n",
    "atmCard1 = atm('5465 3212 9878', '6591')\n",
    "atmCard1.BalanceInquiry()"
   ]
  },
  {
   "cell_type": "code",
   "execution_count": null,
   "id": "944503dd",
   "metadata": {},
   "outputs": [],
   "source": []
  },
  {
   "cell_type": "code",
   "execution_count": null,
   "id": "3c36f411",
   "metadata": {},
   "outputs": [],
   "source": []
  },
  {
   "cell_type": "code",
   "execution_count": null,
   "id": "4a23e4db",
   "metadata": {},
   "outputs": [],
   "source": []
  }
 ],
 "metadata": {
  "kernelspec": {
   "display_name": "Python 3 (ipykernel)",
   "language": "python",
   "name": "python3"
  },
  "language_info": {
   "codemirror_mode": {
    "name": "ipython",
    "version": 3
   },
   "file_extension": ".py",
   "mimetype": "text/x-python",
   "name": "python",
   "nbconvert_exporter": "python",
   "pygments_lexer": "ipython3",
   "version": "3.10.1"
  }
 },
 "nbformat": 4,
 "nbformat_minor": 5
}
